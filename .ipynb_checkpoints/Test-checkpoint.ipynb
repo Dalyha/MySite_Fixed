{
 "cells": [
  {
   "cell_type": "code",
   "execution_count": null,
   "id": "20aaf159",
   "metadata": {},
   "outputs": [],
   "source": [
    "\n",
    "import sys\n",
    "\n",
    "import pandas as pd\n",
    "import numpy as np\n",
    "import re\n",
    "import nltk\n",
    "from sklearn.datasets import load_files\n",
    "nltk.download('stopwords')\n",
    "import pickle\n",
    "from nltk.corpus import stopwords\n",
    "from sklearn.preprocessing import LabelEncoder\n",
    "\n"
   ]
  },
  {
   "cell_type": "code",
   "execution_count": null,
   "id": "15229e34",
   "metadata": {},
   "outputs": [],
   "source": [
    "\n",
    "df = pd.read_json('News_Category_Dataset_v2.json', lines=True)"
   ]
  },
  {
   "cell_type": "code",
   "execution_count": null,
   "id": "65db98d2",
   "metadata": {},
   "outputs": [],
   "source": [
    "df.head(10)"
   ]
  },
  {
   "cell_type": "code",
   "execution_count": null,
   "id": "cdf3397e",
   "metadata": {},
   "outputs": [],
   "source": [
    "df.dropna(inplace = True)"
   ]
  },
  {
   "cell_type": "code",
   "execution_count": null,
   "id": "4e2278df",
   "metadata": {},
   "outputs": [],
   "source": [
    "df.shape\n"
   ]
  },
  {
   "cell_type": "code",
   "execution_count": null,
   "id": "bd9f7bc9",
   "metadata": {},
   "outputs": [],
   "source": [
    "df.head()\n"
   ]
  },
  {
   "cell_type": "code",
   "execution_count": null,
   "id": "a9b9430d",
   "metadata": {},
   "outputs": [],
   "source": [
    "cp = df['headline'] \n",
    "df[\"Text\"] = cp\n",
    "\n",
    "cp = df[\"category\"]\n",
    "df[\"Cat1\"] = cp\n",
    "\n",
    "df1 = df[[\"Text\",\"Cat1\"]]"
   ]
  },
  {
   "cell_type": "code",
   "execution_count": null,
   "id": "5b78aef7",
   "metadata": {},
   "outputs": [],
   "source": [
    "df1.shape\n"
   ]
  },
  {
   "cell_type": "code",
   "execution_count": null,
   "id": "8cbe1ef4",
   "metadata": {},
   "outputs": [],
   "source": [
    "enc = LabelEncoder().fit(df1.Cat1)\n",
    "encoded = enc.transform(df1.Cat1)"
   ]
  },
  {
   "cell_type": "code",
   "execution_count": null,
   "id": "839db6b4",
   "metadata": {},
   "outputs": [],
   "source": [
    "df.head()\n"
   ]
  },
  {
   "cell_type": "code",
   "execution_count": null,
   "id": "35bf099e",
   "metadata": {},
   "outputs": [],
   "source": [
    "from sklearn.model_selection\n",
    "import train_test_split\n",
    "X_train, X_test, y_train, y_test = train_test_split(df.Text, encoded,test_size=0.03, random_state=42)\n"
   ]
  },
  {
   "cell_type": "code",
   "execution_count": null,
   "id": "8a761e20",
   "metadata": {},
   "outputs": [],
   "source": [
    "print(\" -------- -- -- -- -- -\",end='')\n",
    "\n",
    "hh = sys.argv[1]\n",
    "hh = str(hh)\n",
    "print(\"Input text = \", hh,\" ||  \", end=\"    \")"
   ]
  },
  {
   "cell_type": "code",
   "execution_count": null,
   "id": "7f1bf59c",
   "metadata": {},
   "outputs": [],
   "source": [
    "X_test.reset_index(drop=True,inplace=True)"
   ]
  },
  {
   "cell_type": "code",
   "execution_count": null,
   "id": "7e509fbd",
   "metadata": {},
   "outputs": [],
   "source": [
    "\n",
    "X_test.reset_index"
   ]
  },
  {
   "cell_type": "code",
   "execution_count": null,
   "id": "3a982c1b",
   "metadata": {},
   "outputs": [],
   "source": [
    "X_test[0] = hh"
   ]
  },
  {
   "cell_type": "code",
   "execution_count": null,
   "id": "2fa85964",
   "metadata": {},
   "outputs": [],
   "source": [
    "X_test[0]"
   ]
  },
  {
   "cell_type": "code",
   "execution_count": null,
   "id": "1ec3a88d",
   "metadata": {},
   "outputs": [],
   "source": [
    "from sklearn.feature_extraction.text import TfidfVectorizer\n",
    "vectorizer = TfidfVectorizer(stop_words=\"english\", decode_error=\"ignore\")\n",
    "vectorizer.fit(X_train)\n"
   ]
  },
  {
   "cell_type": "code",
   "execution_count": null,
   "id": "7e2b640e",
   "metadata": {},
   "outputs": [],
   "source": [
    "X_train_vectorized = vectorizer.transform(X_train)"
   ]
  },
  {
   "cell_type": "code",
   "execution_count": null,
   "id": "5339b5be",
   "metadata": {},
   "outputs": [],
   "source": [
    "X_train_vectorized"
   ]
  },
  {
   "cell_type": "code",
   "execution_count": null,
   "id": "59422cac",
   "metadata": {},
   "outputs": [],
   "source": [
    "from sklearn.naive_bayes import MultinomialNB\n",
    "cls = MultinomialNB()\n",
    "# transform the list of text to tf-idf before passing it to the model\n",
    "cls.fit(vectorizer.transform(X_train), y_train)\n",
    " "
   ]
  },
  {
   "cell_type": "code",
   "execution_count": null,
   "id": "09a99c4e",
   "metadata": {},
   "outputs": [],
   "source": [
    "cls"
   ]
  },
  {
   "cell_type": "code",
   "execution_count": null,
   "id": "1e4b6f1b",
   "metadata": {},
   "outputs": [],
   "source": [
    "\n",
    "from sklearn.metrics import classification_report, accuracy_score\n",
    "#hh = str(input(\"Enter the text \"))\n",
    "y_pred = cls.predict(vectorizer.transform(X_test))\n"
   ]
  },
  {
   "cell_type": "code",
   "execution_count": null,
   "id": "568c540a",
   "metadata": {},
   "outputs": [],
   "source": [
    "hh = str(input(\"Enter the text \"))\n"
   ]
  },
  {
   "cell_type": "code",
   "execution_count": null,
   "id": "94c85092",
   "metadata": {},
   "outputs": [],
   "source": [
    "y_pred"
   ]
  },
  {
   "cell_type": "code",
   "execution_count": null,
   "id": "27ae8ba0",
   "metadata": {},
   "outputs": [],
   "source": [
    "lss = enc.inverse_transform(y_pred)\n"
   ]
  },
  {
   "cell_type": "code",
   "execution_count": null,
   "id": "f87264bf",
   "metadata": {},
   "outputs": [],
   "source": [
    "print(\"Textul aparține categoriei =\",end=\"\")\n",
    "print(lss[0],end = \" \")"
   ]
  },
  {
   "cell_type": "code",
   "execution_count": null,
   "id": "b42a2003",
   "metadata": {},
   "outputs": [],
   "source": [
    "lss"
   ]
  },
  {
   "cell_type": "code",
   "execution_count": null,
   "id": "3f487072",
   "metadata": {},
   "outputs": [],
   "source": [
    "df.category()"
   ]
  },
  {
   "cell_type": "code",
   "execution_count": null,
   "id": "fc106816",
   "metadata": {},
   "outputs": [],
   "source": [
    "df1.Cat1()"
   ]
  },
  {
   "cell_type": "code",
   "execution_count": null,
   "id": "5748dfb9",
   "metadata": {},
   "outputs": [],
   "source": []
  },
  {
   "cell_type": "code",
   "execution_count": null,
   "id": "bf6d5f8e",
   "metadata": {},
   "outputs": [],
   "source": []
  },
  {
   "cell_type": "code",
   "execution_count": null,
   "id": "fc5b1437",
   "metadata": {},
   "outputs": [],
   "source": []
  },
  {
   "cell_type": "code",
   "execution_count": null,
   "id": "cd4446d6",
   "metadata": {},
   "outputs": [],
   "source": []
  },
  {
   "cell_type": "code",
   "execution_count": null,
   "id": "092b6700",
   "metadata": {},
   "outputs": [],
   "source": []
  }
 ],
 "metadata": {
  "kernelspec": {
   "display_name": "Python 3",
   "language": "python",
   "name": "python3"
  },
  "language_info": {
   "codemirror_mode": {
    "name": "ipython",
    "version": 3
   },
   "file_extension": ".py",
   "mimetype": "text/x-python",
   "name": "python",
   "nbconvert_exporter": "python",
   "pygments_lexer": "ipython3",
   "version": "3.8.8"
  }
 },
 "nbformat": 4,
 "nbformat_minor": 5
}
