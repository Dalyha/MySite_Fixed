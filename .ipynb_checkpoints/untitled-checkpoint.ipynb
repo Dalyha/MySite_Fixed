{
 "cells": [
  {
   "cell_type": "code",
   "execution_count": 1,
   "id": "ff3613e5",
   "metadata": {},
   "outputs": [
    {
     "name": "stderr",
     "output_type": "stream",
     "text": [
      "[nltk_data] Downloading package stopwords to /home/stark/nltk_data...\n",
      "[nltk_data]   Package stopwords is already up-to-date!\n"
     ]
    }
   ],
   "source": [
    "import pandas as pd\n",
    "import numpy as np\n",
    "import re\n",
    "import nltk\n",
    "from sklearn.datasets import load_files\n",
    "nltk.download('stopwords')\n",
    "import pickle\n",
    "from nltk.corpus import stopwords\n",
    "from sklearn.preprocessing import LabelEncoder"
   ]
  },
  {
   "cell_type": "code",
   "execution_count": 6,
   "id": "026f6d2f",
   "metadata": {},
   "outputs": [],
   "source": [
    "df = pd.read_csv(\"val_10k.csv\")"
   ]
  },
  {
   "cell_type": "code",
   "execution_count": 3,
   "id": "5ca8a560",
   "metadata": {},
   "outputs": [
    {
     "data": {
      "text/html": [
       "<div>\n",
       "<style scoped>\n",
       "    .dataframe tbody tr th:only-of-type {\n",
       "        vertical-align: middle;\n",
       "    }\n",
       "\n",
       "    .dataframe tbody tr th {\n",
       "        vertical-align: top;\n",
       "    }\n",
       "\n",
       "    .dataframe thead th {\n",
       "        text-align: right;\n",
       "    }\n",
       "</style>\n",
       "<table border=\"1\" class=\"dataframe\">\n",
       "  <thead>\n",
       "    <tr style=\"text-align: right;\">\n",
       "      <th></th>\n",
       "      <th>productId</th>\n",
       "      <th>Title</th>\n",
       "      <th>userId</th>\n",
       "      <th>Helpfulness</th>\n",
       "      <th>Score</th>\n",
       "      <th>Time</th>\n",
       "      <th>Text</th>\n",
       "      <th>Cat1</th>\n",
       "      <th>Cat2</th>\n",
       "      <th>Cat3</th>\n",
       "    </tr>\n",
       "  </thead>\n",
       "  <tbody>\n",
       "    <tr>\n",
       "      <th>0</th>\n",
       "      <td>B0002AQK70</td>\n",
       "      <td>PetSafe Staywell Pet Door with Clear Hard Flap</td>\n",
       "      <td>A2L6QTQQI13LZG</td>\n",
       "      <td>1/1</td>\n",
       "      <td>4.0</td>\n",
       "      <td>1344211200</td>\n",
       "      <td>We've only had it installed about 2 weeks. So ...</td>\n",
       "      <td>pet supplies</td>\n",
       "      <td>cats</td>\n",
       "      <td>cat flaps</td>\n",
       "    </tr>\n",
       "    <tr>\n",
       "      <th>1</th>\n",
       "      <td>B0002DK8OI</td>\n",
       "      <td>Kaytee Timothy Cubes, 1-Pound</td>\n",
       "      <td>A2HJUOZ9R9K4F</td>\n",
       "      <td>0/0</td>\n",
       "      <td>1.0</td>\n",
       "      <td>1344211200</td>\n",
       "      <td>My bunny had a hard time eating this because t...</td>\n",
       "      <td>pet supplies</td>\n",
       "      <td>bunny rabbit central</td>\n",
       "      <td>food</td>\n",
       "    </tr>\n",
       "    <tr>\n",
       "      <th>2</th>\n",
       "      <td>B0006VJ6TO</td>\n",
       "      <td>Body Back Buddy</td>\n",
       "      <td>A14PK96LL78NN3</td>\n",
       "      <td>0/0</td>\n",
       "      <td>5.0</td>\n",
       "      <td>1344211200</td>\n",
       "      <td>would never in a million years have guessed th...</td>\n",
       "      <td>health personal care</td>\n",
       "      <td>health care</td>\n",
       "      <td>massage relaxation</td>\n",
       "    </tr>\n",
       "    <tr>\n",
       "      <th>3</th>\n",
       "      <td>B000EZSFXA</td>\n",
       "      <td>SnackMasters California Style Turkey Jerky</td>\n",
       "      <td>A2UW73HU9UMOTY</td>\n",
       "      <td>0/0</td>\n",
       "      <td>5.0</td>\n",
       "      <td>1344211200</td>\n",
       "      <td>Being the jerky fanatic I am, snackmasters han...</td>\n",
       "      <td>grocery gourmet food</td>\n",
       "      <td>snack food</td>\n",
       "      <td>jerky dried meats</td>\n",
       "    </tr>\n",
       "    <tr>\n",
       "      <th>4</th>\n",
       "      <td>B000KV61FC</td>\n",
       "      <td>Premier Busy Buddy Tug-a-Jug Treat Dispensing ...</td>\n",
       "      <td>A1Q99RNV0TKW8R</td>\n",
       "      <td>1/1</td>\n",
       "      <td>4.0</td>\n",
       "      <td>1344211200</td>\n",
       "      <td>Wondered how quick my dog would catch on to th...</td>\n",
       "      <td>pet supplies</td>\n",
       "      <td>dogs</td>\n",
       "      <td>toys</td>\n",
       "    </tr>\n",
       "  </tbody>\n",
       "</table>\n",
       "</div>"
      ],
      "text/plain": [
       "    productId                                              Title  \\\n",
       "0  B0002AQK70     PetSafe Staywell Pet Door with Clear Hard Flap   \n",
       "1  B0002DK8OI                      Kaytee Timothy Cubes, 1-Pound   \n",
       "2  B0006VJ6TO                                    Body Back Buddy   \n",
       "3  B000EZSFXA         SnackMasters California Style Turkey Jerky   \n",
       "4  B000KV61FC  Premier Busy Buddy Tug-a-Jug Treat Dispensing ...   \n",
       "\n",
       "           userId Helpfulness  Score        Time  \\\n",
       "0  A2L6QTQQI13LZG         1/1    4.0  1344211200   \n",
       "1   A2HJUOZ9R9K4F         0/0    1.0  1344211200   \n",
       "2  A14PK96LL78NN3         0/0    5.0  1344211200   \n",
       "3  A2UW73HU9UMOTY         0/0    5.0  1344211200   \n",
       "4  A1Q99RNV0TKW8R         1/1    4.0  1344211200   \n",
       "\n",
       "                                                Text                  Cat1  \\\n",
       "0  We've only had it installed about 2 weeks. So ...          pet supplies   \n",
       "1  My bunny had a hard time eating this because t...          pet supplies   \n",
       "2  would never in a million years have guessed th...  health personal care   \n",
       "3  Being the jerky fanatic I am, snackmasters han...  grocery gourmet food   \n",
       "4  Wondered how quick my dog would catch on to th...          pet supplies   \n",
       "\n",
       "                   Cat2                Cat3  \n",
       "0                  cats           cat flaps  \n",
       "1  bunny rabbit central                food  \n",
       "2           health care  massage relaxation  \n",
       "3            snack food   jerky dried meats  \n",
       "4                  dogs                toys  "
      ]
     },
     "execution_count": 3,
     "metadata": {},
     "output_type": "execute_result"
    }
   ],
   "source": [
    "df.head()"
   ]
  },
  {
   "cell_type": "code",
   "execution_count": 10,
   "id": "9ca385f5",
   "metadata": {},
   "outputs": [
    {
     "data": {
      "text/plain": [
       "array(['cats', 'bunny rabbit central', 'health care', 'snack food',\n",
       "       'dogs', 'household supplies', 'novelty gag toys', 'fragrance',\n",
       "       'skin care', 'personal care', 'nutrition wellness',\n",
       "       'action toy figures', 'pantry staples', 'makeup',\n",
       "       'stuffed animals plush', 'hair care', 'herbs', 'nursery',\n",
       "       'bath body', 'diapering', 'baby toddler toys',\n",
       "       'cooking baking supplies', 'baby child care', 'dolls accessories',\n",
       "       'birds', 'fish aquatic pets', 'gifts',\n",
       "       'medical supplies equipment', 'sexual wellness', 'potty training',\n",
       "       'hobbies', 'safety', 'candy chocolate', 'beverages', 'games',\n",
       "       'arts crafts', 'feeding', 'electronics for kids', 'strollers',\n",
       "       'tricycles', 'vehicles remote control', 'tools accessories',\n",
       "       'grown up toys', 'dress up pretend play', 'gear',\n",
       "       'health baby care', 'breakfast foods', 'building toys',\n",
       "       'sports outdoor play', 'fresh flowers live indoor plants',\n",
       "       'puzzles', 'pregnancy maternity', 'bathing skin care',\n",
       "       'learning education', 'car seats accessories', 'sauces dips',\n",
       "       'small animals', 'dairy eggs', 'breads bakery', 'gourmet gifts',\n",
       "       'produce', 'meat seafood', 'meat poultry', 'baby food'],\n",
       "      dtype=object)"
      ]
     },
     "execution_count": 10,
     "metadata": {},
     "output_type": "execute_result"
    }
   ],
   "source": [
    "df.Cat2.unique()"
   ]
  },
  {
   "cell_type": "code",
   "execution_count": 8,
   "id": "8b5d977d",
   "metadata": {},
   "outputs": [
    {
     "data": {
      "text/plain": [
       "<pandas.core.groupby.generic.DataFrameGroupBy object at 0x7f09f7b4edf0>"
      ]
     },
     "execution_count": 8,
     "metadata": {},
     "output_type": "execute_result"
    }
   ],
   "source": []
  },
  {
   "cell_type": "code",
   "execution_count": 5,
   "id": "514d693b",
   "metadata": {},
   "outputs": [],
   "source": [
    "df.dropna(inplace = True)"
   ]
  },
  {
   "cell_type": "code",
   "execution_count": 6,
   "id": "997a12b0",
   "metadata": {},
   "outputs": [
    {
     "data": {
      "text/plain": [
       "(9995, 10)"
      ]
     },
     "execution_count": 6,
     "metadata": {},
     "output_type": "execute_result"
    }
   ],
   "source": [
    "df.shape"
   ]
  },
  {
   "cell_type": "code",
   "execution_count": 7,
   "id": "36c530fb",
   "metadata": {},
   "outputs": [
    {
     "data": {
      "text/html": [
       "<div>\n",
       "<style scoped>\n",
       "    .dataframe tbody tr th:only-of-type {\n",
       "        vertical-align: middle;\n",
       "    }\n",
       "\n",
       "    .dataframe tbody tr th {\n",
       "        vertical-align: top;\n",
       "    }\n",
       "\n",
       "    .dataframe thead th {\n",
       "        text-align: right;\n",
       "    }\n",
       "</style>\n",
       "<table border=\"1\" class=\"dataframe\">\n",
       "  <thead>\n",
       "    <tr style=\"text-align: right;\">\n",
       "      <th></th>\n",
       "      <th>productId</th>\n",
       "      <th>Title</th>\n",
       "      <th>userId</th>\n",
       "      <th>Helpfulness</th>\n",
       "      <th>Score</th>\n",
       "      <th>Time</th>\n",
       "      <th>Text</th>\n",
       "      <th>Cat1</th>\n",
       "      <th>Cat2</th>\n",
       "      <th>Cat3</th>\n",
       "    </tr>\n",
       "  </thead>\n",
       "  <tbody>\n",
       "    <tr>\n",
       "      <th>0</th>\n",
       "      <td>B0002AQK70</td>\n",
       "      <td>PetSafe Staywell Pet Door with Clear Hard Flap</td>\n",
       "      <td>A2L6QTQQI13LZG</td>\n",
       "      <td>1/1</td>\n",
       "      <td>4.0</td>\n",
       "      <td>1344211200</td>\n",
       "      <td>We've only had it installed about 2 weeks. So ...</td>\n",
       "      <td>pet supplies</td>\n",
       "      <td>cats</td>\n",
       "      <td>cat flaps</td>\n",
       "    </tr>\n",
       "    <tr>\n",
       "      <th>1</th>\n",
       "      <td>B0002DK8OI</td>\n",
       "      <td>Kaytee Timothy Cubes, 1-Pound</td>\n",
       "      <td>A2HJUOZ9R9K4F</td>\n",
       "      <td>0/0</td>\n",
       "      <td>1.0</td>\n",
       "      <td>1344211200</td>\n",
       "      <td>My bunny had a hard time eating this because t...</td>\n",
       "      <td>pet supplies</td>\n",
       "      <td>bunny rabbit central</td>\n",
       "      <td>food</td>\n",
       "    </tr>\n",
       "    <tr>\n",
       "      <th>2</th>\n",
       "      <td>B0006VJ6TO</td>\n",
       "      <td>Body Back Buddy</td>\n",
       "      <td>A14PK96LL78NN3</td>\n",
       "      <td>0/0</td>\n",
       "      <td>5.0</td>\n",
       "      <td>1344211200</td>\n",
       "      <td>would never in a million years have guessed th...</td>\n",
       "      <td>health personal care</td>\n",
       "      <td>health care</td>\n",
       "      <td>massage relaxation</td>\n",
       "    </tr>\n",
       "    <tr>\n",
       "      <th>3</th>\n",
       "      <td>B000EZSFXA</td>\n",
       "      <td>SnackMasters California Style Turkey Jerky</td>\n",
       "      <td>A2UW73HU9UMOTY</td>\n",
       "      <td>0/0</td>\n",
       "      <td>5.0</td>\n",
       "      <td>1344211200</td>\n",
       "      <td>Being the jerky fanatic I am, snackmasters han...</td>\n",
       "      <td>grocery gourmet food</td>\n",
       "      <td>snack food</td>\n",
       "      <td>jerky dried meats</td>\n",
       "    </tr>\n",
       "    <tr>\n",
       "      <th>4</th>\n",
       "      <td>B000KV61FC</td>\n",
       "      <td>Premier Busy Buddy Tug-a-Jug Treat Dispensing ...</td>\n",
       "      <td>A1Q99RNV0TKW8R</td>\n",
       "      <td>1/1</td>\n",
       "      <td>4.0</td>\n",
       "      <td>1344211200</td>\n",
       "      <td>Wondered how quick my dog would catch on to th...</td>\n",
       "      <td>pet supplies</td>\n",
       "      <td>dogs</td>\n",
       "      <td>toys</td>\n",
       "    </tr>\n",
       "  </tbody>\n",
       "</table>\n",
       "</div>"
      ],
      "text/plain": [
       "    productId                                              Title  \\\n",
       "0  B0002AQK70     PetSafe Staywell Pet Door with Clear Hard Flap   \n",
       "1  B0002DK8OI                      Kaytee Timothy Cubes, 1-Pound   \n",
       "2  B0006VJ6TO                                    Body Back Buddy   \n",
       "3  B000EZSFXA         SnackMasters California Style Turkey Jerky   \n",
       "4  B000KV61FC  Premier Busy Buddy Tug-a-Jug Treat Dispensing ...   \n",
       "\n",
       "           userId Helpfulness  Score        Time  \\\n",
       "0  A2L6QTQQI13LZG         1/1    4.0  1344211200   \n",
       "1   A2HJUOZ9R9K4F         0/0    1.0  1344211200   \n",
       "2  A14PK96LL78NN3         0/0    5.0  1344211200   \n",
       "3  A2UW73HU9UMOTY         0/0    5.0  1344211200   \n",
       "4  A1Q99RNV0TKW8R         1/1    4.0  1344211200   \n",
       "\n",
       "                                                Text                  Cat1  \\\n",
       "0  We've only had it installed about 2 weeks. So ...          pet supplies   \n",
       "1  My bunny had a hard time eating this because t...          pet supplies   \n",
       "2  would never in a million years have guessed th...  health personal care   \n",
       "3  Being the jerky fanatic I am, snackmasters han...  grocery gourmet food   \n",
       "4  Wondered how quick my dog would catch on to th...          pet supplies   \n",
       "\n",
       "                   Cat2                Cat3  \n",
       "0                  cats           cat flaps  \n",
       "1  bunny rabbit central                food  \n",
       "2           health care  massage relaxation  \n",
       "3            snack food   jerky dried meats  \n",
       "4                  dogs                toys  "
      ]
     },
     "execution_count": 7,
     "metadata": {},
     "output_type": "execute_result"
    }
   ],
   "source": [
    "df.head()"
   ]
  },
  {
   "cell_type": "code",
   "execution_count": 17,
   "id": "c4d126b9",
   "metadata": {},
   "outputs": [],
   "source": [
    "df1 = df[[\"Text\",\"Cat2\"]]"
   ]
  },
  {
   "cell_type": "code",
   "execution_count": 18,
   "id": "76d66456",
   "metadata": {},
   "outputs": [
    {
     "data": {
      "text/plain": [
       "(9995, 2)"
      ]
     },
     "execution_count": 18,
     "metadata": {},
     "output_type": "execute_result"
    }
   ],
   "source": [
    "df1.shape"
   ]
  },
  {
   "cell_type": "code",
   "execution_count": 19,
   "id": "87297cfd",
   "metadata": {},
   "outputs": [],
   "source": [
    "enc = LabelEncoder().fit(df1.Cat2)\n",
    "encoded = enc.transform(df1.Cat2)"
   ]
  },
  {
   "cell_type": "code",
   "execution_count": 20,
   "id": "2f7475e7",
   "metadata": {},
   "outputs": [
    {
     "data": {
      "text/html": [
       "<div>\n",
       "<style scoped>\n",
       "    .dataframe tbody tr th:only-of-type {\n",
       "        vertical-align: middle;\n",
       "    }\n",
       "\n",
       "    .dataframe tbody tr th {\n",
       "        vertical-align: top;\n",
       "    }\n",
       "\n",
       "    .dataframe thead th {\n",
       "        text-align: right;\n",
       "    }\n",
       "</style>\n",
       "<table border=\"1\" class=\"dataframe\">\n",
       "  <thead>\n",
       "    <tr style=\"text-align: right;\">\n",
       "      <th></th>\n",
       "      <th>productId</th>\n",
       "      <th>Title</th>\n",
       "      <th>userId</th>\n",
       "      <th>Helpfulness</th>\n",
       "      <th>Score</th>\n",
       "      <th>Time</th>\n",
       "      <th>Text</th>\n",
       "      <th>Cat1</th>\n",
       "      <th>Cat2</th>\n",
       "      <th>Cat3</th>\n",
       "    </tr>\n",
       "  </thead>\n",
       "  <tbody>\n",
       "    <tr>\n",
       "      <th>0</th>\n",
       "      <td>B0002AQK70</td>\n",
       "      <td>PetSafe Staywell Pet Door with Clear Hard Flap</td>\n",
       "      <td>A2L6QTQQI13LZG</td>\n",
       "      <td>1/1</td>\n",
       "      <td>4.0</td>\n",
       "      <td>1344211200</td>\n",
       "      <td>We've only had it installed about 2 weeks. So ...</td>\n",
       "      <td>pet supplies</td>\n",
       "      <td>cats</td>\n",
       "      <td>cat flaps</td>\n",
       "    </tr>\n",
       "    <tr>\n",
       "      <th>1</th>\n",
       "      <td>B0002DK8OI</td>\n",
       "      <td>Kaytee Timothy Cubes, 1-Pound</td>\n",
       "      <td>A2HJUOZ9R9K4F</td>\n",
       "      <td>0/0</td>\n",
       "      <td>1.0</td>\n",
       "      <td>1344211200</td>\n",
       "      <td>My bunny had a hard time eating this because t...</td>\n",
       "      <td>pet supplies</td>\n",
       "      <td>bunny rabbit central</td>\n",
       "      <td>food</td>\n",
       "    </tr>\n",
       "    <tr>\n",
       "      <th>2</th>\n",
       "      <td>B0006VJ6TO</td>\n",
       "      <td>Body Back Buddy</td>\n",
       "      <td>A14PK96LL78NN3</td>\n",
       "      <td>0/0</td>\n",
       "      <td>5.0</td>\n",
       "      <td>1344211200</td>\n",
       "      <td>would never in a million years have guessed th...</td>\n",
       "      <td>health personal care</td>\n",
       "      <td>health care</td>\n",
       "      <td>massage relaxation</td>\n",
       "    </tr>\n",
       "    <tr>\n",
       "      <th>3</th>\n",
       "      <td>B000EZSFXA</td>\n",
       "      <td>SnackMasters California Style Turkey Jerky</td>\n",
       "      <td>A2UW73HU9UMOTY</td>\n",
       "      <td>0/0</td>\n",
       "      <td>5.0</td>\n",
       "      <td>1344211200</td>\n",
       "      <td>Being the jerky fanatic I am, snackmasters han...</td>\n",
       "      <td>grocery gourmet food</td>\n",
       "      <td>snack food</td>\n",
       "      <td>jerky dried meats</td>\n",
       "    </tr>\n",
       "    <tr>\n",
       "      <th>4</th>\n",
       "      <td>B000KV61FC</td>\n",
       "      <td>Premier Busy Buddy Tug-a-Jug Treat Dispensing ...</td>\n",
       "      <td>A1Q99RNV0TKW8R</td>\n",
       "      <td>1/1</td>\n",
       "      <td>4.0</td>\n",
       "      <td>1344211200</td>\n",
       "      <td>Wondered how quick my dog would catch on to th...</td>\n",
       "      <td>pet supplies</td>\n",
       "      <td>dogs</td>\n",
       "      <td>toys</td>\n",
       "    </tr>\n",
       "  </tbody>\n",
       "</table>\n",
       "</div>"
      ],
      "text/plain": [
       "    productId                                              Title  \\\n",
       "0  B0002AQK70     PetSafe Staywell Pet Door with Clear Hard Flap   \n",
       "1  B0002DK8OI                      Kaytee Timothy Cubes, 1-Pound   \n",
       "2  B0006VJ6TO                                    Body Back Buddy   \n",
       "3  B000EZSFXA         SnackMasters California Style Turkey Jerky   \n",
       "4  B000KV61FC  Premier Busy Buddy Tug-a-Jug Treat Dispensing ...   \n",
       "\n",
       "           userId Helpfulness  Score        Time  \\\n",
       "0  A2L6QTQQI13LZG         1/1    4.0  1344211200   \n",
       "1   A2HJUOZ9R9K4F         0/0    1.0  1344211200   \n",
       "2  A14PK96LL78NN3         0/0    5.0  1344211200   \n",
       "3  A2UW73HU9UMOTY         0/0    5.0  1344211200   \n",
       "4  A1Q99RNV0TKW8R         1/1    4.0  1344211200   \n",
       "\n",
       "                                                Text                  Cat1  \\\n",
       "0  We've only had it installed about 2 weeks. So ...          pet supplies   \n",
       "1  My bunny had a hard time eating this because t...          pet supplies   \n",
       "2  would never in a million years have guessed th...  health personal care   \n",
       "3  Being the jerky fanatic I am, snackmasters han...  grocery gourmet food   \n",
       "4  Wondered how quick my dog would catch on to th...          pet supplies   \n",
       "\n",
       "                   Cat2                Cat3  \n",
       "0                  cats           cat flaps  \n",
       "1  bunny rabbit central                food  \n",
       "2           health care  massage relaxation  \n",
       "3            snack food   jerky dried meats  \n",
       "4                  dogs                toys  "
      ]
     },
     "execution_count": 20,
     "metadata": {},
     "output_type": "execute_result"
    }
   ],
   "source": [
    "df.head()"
   ]
  },
  {
   "cell_type": "code",
   "execution_count": 128,
   "id": "6d194036",
   "metadata": {},
   "outputs": [],
   "source": [
    "from sklearn.model_selection import train_test_split\n",
    "X_train, X_test, y_train, y_test = train_test_split(df.Text, encoded,test_size=0.03, random_state=42)\n",
    "\n"
   ]
  },
  {
   "cell_type": "code",
   "execution_count": 94,
   "id": "efc8148f",
   "metadata": {},
   "outputs": [
    {
     "name": "stdout",
     "output_type": "stream",
     "text": [
      "Enter your texthi , i want to purchase some cats now , cats are good \n"
     ]
    }
   ],
   "source": [
    "hh = input(\"Enter your text\")"
   ]
  },
  {
   "cell_type": "code",
   "execution_count": 129,
   "id": "b19777bb",
   "metadata": {},
   "outputs": [],
   "source": [
    "X_test.reset_index(drop=True,inplace=True)"
   ]
  },
  {
   "cell_type": "code",
   "execution_count": 130,
   "id": "47b32c00",
   "metadata": {},
   "outputs": [],
   "source": [
    "X_test[0] = hh"
   ]
  },
  {
   "cell_type": "code",
   "execution_count": 131,
   "id": "ee477924",
   "metadata": {},
   "outputs": [
    {
     "data": {
      "text/plain": [
       "0      hi , i want to purchase some cats now , cats a...\n",
       "1      Because of the price, I decided to only feed t...\n",
       "2      These are fun and hilarious toys. Great for th...\n",
       "3      Pampers diapers are excellent for the babies w...\n",
       "4      I got Contract Dermatitis from this product. A...\n",
       "                             ...                        \n",
       "295    In my opinion, Lipstix Lipstick Sealer does no...\n",
       "296    puffed kamut is a really tasty healthy cereal....\n",
       "297    performs as advertised and value priced. what ...\n",
       "298    I used to find these at Target and Walmart but...\n",
       "299    Smaller bottle than they sell at bed bath & be...\n",
       "Name: Text, Length: 300, dtype: object"
      ]
     },
     "execution_count": 131,
     "metadata": {},
     "output_type": "execute_result"
    }
   ],
   "source": [
    "X_test"
   ]
  },
  {
   "cell_type": "code",
   "execution_count": 132,
   "id": "e20a9c08",
   "metadata": {},
   "outputs": [
    {
     "data": {
      "text/plain": [
       "TfidfVectorizer(decode_error='ignore', stop_words='english')"
      ]
     },
     "execution_count": 132,
     "metadata": {},
     "output_type": "execute_result"
    }
   ],
   "source": [
    "from sklearn.feature_extraction.text import TfidfVectorizer\n",
    "vectorizer = TfidfVectorizer(stop_words=\"english\", decode_error=\"ignore\")\n",
    "vectorizer.fit(X_train)\n"
   ]
  },
  {
   "cell_type": "code",
   "execution_count": 133,
   "id": "3d2152fb",
   "metadata": {},
   "outputs": [],
   "source": [
    "X_train_vectorized = vectorizer.transform(X_train)"
   ]
  },
  {
   "cell_type": "code",
   "execution_count": 134,
   "id": "3d139683",
   "metadata": {},
   "outputs": [
    {
     "data": {
      "text/plain": [
       "MultinomialNB()"
      ]
     },
     "execution_count": 134,
     "metadata": {},
     "output_type": "execute_result"
    }
   ],
   "source": [
    "from sklearn.naive_bayes import MultinomialNB\n",
    "cls = MultinomialNB()\n",
    "# transform the list of text to tf-idf before passing it to the model\n",
    "cls.fit(vectorizer.transform(X_train), y_train)\n",
    " \n"
   ]
  },
  {
   "cell_type": "code",
   "execution_count": 135,
   "id": "bb3f04bd",
   "metadata": {},
   "outputs": [],
   "source": [
    "from sklearn.metrics import classification_report, accuracy_score\n",
    "#hh = str(input(\"Enter the text \"))\n",
    "y_pred = cls.predict(vectorizer.transform(X_test))\n"
   ]
  },
  {
   "cell_type": "code",
   "execution_count": null,
   "id": "99395880",
   "metadata": {},
   "outputs": [],
   "source": []
  },
  {
   "cell_type": "code",
   "execution_count": null,
   "id": "4315956a",
   "metadata": {},
   "outputs": [],
   "source": [
    " \n"
   ]
  },
  {
   "cell_type": "code",
   "execution_count": 136,
   "id": "1617e6f5",
   "metadata": {},
   "outputs": [],
   "source": [
    "lss = enc.inverse_transform(y_pred)"
   ]
  },
  {
   "cell_type": "code",
   "execution_count": 137,
   "id": "84f44883",
   "metadata": {},
   "outputs": [
    {
     "name": "stdout",
     "output_type": "stream",
     "text": [
      "The category matched is = cats\n"
     ]
    }
   ],
   "source": [
    "print(\"The category matched is =\", end = \" \")\n",
    "print(lss[0])"
   ]
  },
  {
   "cell_type": "code",
   "execution_count": null,
   "id": "f21d52b6",
   "metadata": {},
   "outputs": [],
   "source": []
  }
 ],
 "metadata": {
  "kernelspec": {
   "display_name": "Python 3",
   "language": "python",
   "name": "python3"
  },
  "language_info": {
   "codemirror_mode": {
    "name": "ipython",
    "version": 3
   },
   "file_extension": ".py",
   "mimetype": "text/x-python",
   "name": "python",
   "nbconvert_exporter": "python",
   "pygments_lexer": "ipython3",
   "version": "3.9.4"
  }
 },
 "nbformat": 4,
 "nbformat_minor": 5
}
